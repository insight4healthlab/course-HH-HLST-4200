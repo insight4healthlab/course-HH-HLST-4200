{
  "nbformat": 4,
  "nbformat_minor": 0,
  "metadata": {
    "colab": {
      "provenance": [],
      "authorship_tag": "ABX9TyPOEsUhYDbE3SYeBUs5O/qy",
      "include_colab_link": true
    },
    "kernelspec": {
      "name": "python3",
      "display_name": "Python 3"
    },
    "language_info": {
      "name": "python"
    }
  },
  "cells": [
    {
      "cell_type": "markdown",
      "metadata": {
        "id": "view-in-github",
        "colab_type": "text"
      },
      "source": [
        "<a href=\"https://colab.research.google.com/github/insight4healthlab/course-HH-HLST-4200/blob/main/notebooks/data-import/CCHS_data_import.ipynb\" target=\"_parent\"><img src=\"https://colab.research.google.com/assets/colab-badge.svg\" alt=\"Open In Colab\"/></a>"
      ]
    },
    {
      "cell_type": "code",
      "execution_count": 1,
      "metadata": {
        "id": "t0D7Ah3f6Jm5"
      },
      "outputs": [],
      "source": [
        "# Import necessary libraries\n",
        "import pandas as pd"
      ]
    },
    {
      "cell_type": "code",
      "source": [
        "from google.colab import drive\n",
        "drive.mount('/content/gdrive')"
      ],
      "metadata": {
        "colab": {
          "base_uri": "https://localhost:8080/"
        },
        "id": "4osJR0Oy6sj6",
        "outputId": "7728dd86-96a6-4e5a-d18d-1d3c0a14ccaa"
      },
      "execution_count": 2,
      "outputs": [
        {
          "output_type": "stream",
          "name": "stdout",
          "text": [
            "Mounted at /content/gdrive\n"
          ]
        }
      ]
    },
    {
      "cell_type": "markdown",
      "source": [
        "Read Tab To Dataframe"
      ],
      "metadata": {
        "id": "PzXmyZun6Oj9"
      }
    },
    {
      "cell_type": "code",
      "source": [
        "# Define the data path (update this if the file is in a different location)\n",
        "data_path = 'course-HH-HLST-4200/datasets/cchs-82M0013-E-2017-2018-Annual-component_F1-subset.tab'\n",
        "\n",
        "data_path = '/content/gdrive/MyDrive/' + data_path\n",
        "# Read the .tab file into a pandas DataFrame\n",
        "def read_tab_file(data_path):\n",
        "    try:\n",
        "        # Using pandas to read the tab-separated file\n",
        "        df = pd.read_csv(data_path, sep='\\t', engine='python')\n",
        "        print(\"File successfully loaded into a DataFrame.\")\n",
        "        return df\n",
        "    except FileNotFoundError:\n",
        "        print(f\"File not found at the path: {data_path}. Please verify the file location.\")\n",
        "    except Exception as e:\n",
        "        print(f\"An error occurred: {e}\")\n",
        "\n",
        "# Call the function to load the file\n",
        "data_frame = read_tab_file(data_path)\n",
        "\n",
        "# Display the first few rows of the DataFrame\n",
        "if data_frame is not None:\n",
        "    print(data_frame.head())\n"
      ],
      "metadata": {
        "colab": {
          "base_uri": "https://localhost:8080/"
        },
        "id": "4APag-4N6P_q",
        "outputId": "3bad1fe4-0a95-4daf-f7fe-558d7b08c7fe"
      },
      "execution_count": 10,
      "outputs": [
        {
          "output_type": "stream",
          "name": "stdout",
          "text": [
            "File successfully loaded into a DataFrame.\n",
            "   DOMAM  MAM_005  MAM_010  MAM_013A  MAM_013B  MAM_013C  MAM_013D  MAM_013E  \\\n",
            "0      2        6        6         6         6         6         6         6   \n",
            "1      2        6        6         6         6         6         6         6   \n",
            "2      2        6        6         6         6         6         6         6   \n",
            "3      2        6        6         6         6         6         6         6   \n",
            "4      2        6        6         6         6         6         6         6   \n",
            "\n",
            "   MAM_013F  MAM_013G  MAM_013H  MAM_015A  MAM_015B  MAM_015C  MAM_015D  \\\n",
            "0         6         6         6         6         6         6         6   \n",
            "1         6         6         6         6         6         6         6   \n",
            "2         6         6         6         6         6         6         6   \n",
            "3         6         6         6         6         6         6         6   \n",
            "4         6         6         6         6         6         6         6   \n",
            "\n",
            "   MAM_015E  MAM_015F  MAM_015G  MAM_025  \n",
            "0         6         6         6       96  \n",
            "1         6         6         6       96  \n",
            "2         6         6         6       96  \n",
            "3         6         6         6       96  \n",
            "4         6         6         6       96  \n"
          ]
        }
      ]
    }
  ]
}